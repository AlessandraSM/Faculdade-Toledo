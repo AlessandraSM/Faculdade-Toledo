{
  "nbformat": 4,
  "nbformat_minor": 0,
  "metadata": {
    "colab": {
      "provenance": [],
      "authorship_tag": "ABX9TyMSvYeberu1RSGEv8OqNwND",
      "include_colab_link": true
    },
    "kernelspec": {
      "name": "python3",
      "display_name": "Python 3"
    },
    "language_info": {
      "name": "python"
    }
  },
  "cells": [
    {
      "cell_type": "markdown",
      "metadata": {
        "id": "view-in-github",
        "colab_type": "text"
      },
      "source": [
        "<a href=\"https://colab.research.google.com/github/AlessandraSM/Faculdade-Toledo/blob/main/atividade2.ipynb\" target=\"_parent\"><img src=\"https://colab.research.google.com/assets/colab-badge.svg\" alt=\"Open In Colab\"/></a>"
      ]
    },
    {
      "cell_type": "markdown",
      "source": [
        "Escreva uma função que recebe um número inteiro como parâmetro de entrada e retorna o texto “PAR” ou “ÍMPAR”"
      ],
      "metadata": {
        "id": "SLPmnWOaiR7F"
      }
    },
    {
      "cell_type": "code",
      "execution_count": null,
      "metadata": {
        "colab": {
          "base_uri": "https://localhost:8080/"
        },
        "id": "oQsbSjFjf3u3",
        "outputId": "05dcd9e5-da5b-40a6-f843-b1aea7117ba4"
      },
      "outputs": [
        {
          "output_type": "stream",
          "name": "stdout",
          "text": [
            "O número 3 que você digitou é IMPAR!\n"
          ]
        }
      ],
      "source": [
        "def entradaNumero(numero): #Defini a entrada\n",
        "    if numero %2 == 0: #Lógica se o numero que vai ser digitado se o resto da divisão for %2 == 0 definindo a lógica o que vai acontecer com a analise do dado que esta entrando.\n",
        "        return(f'O número {numero} que você digitou é PAR!') #o que quero que aconteça\n",
        "    else:\n",
        "        print(f'O número {numero} que você digitou é IMPAR!')\n",
        "\n",
        "entradaNumero(3)\n"
      ]
    },
    {
      "cell_type": "markdown",
      "source": [
        " Utilize a função EPrimo desenvolvida no Exercício resolvido 5.1 para carregar uma lista contendo os N primeiros números primos, em que N é um número inteiro fornecido pelo usuário.\n"
      ],
      "metadata": {
        "id": "raWT0e8Fn8pj"
      }
    },
    {
      "cell_type": "code",
      "source": [
        "#UTILIZANDO A FUNÇÃO 5.1\n",
        "\n",
        "def EPrimo(P):\n",
        "    if P <= 1:\n",
        "      return 'Erro'\n",
        "    elif P == 2:\n",
        "      return 1\n",
        "    elif P % 2 == 0:\n",
        "      return 0\n",
        "    else:\n",
        "        raiz = P ** 0.5\n",
        "        R = 1\n",
        "        i = 3\n",
        "        while i <= raiz and R != 0:\n",
        "           R = P % i\n",
        "           i+=2\n",
        "        return R\n",
        "\n",
        "def primeiros_primos(N):\n",
        "    numeros_primos = [] #criando array vazio\n",
        "    for i in range(2, N + 1): #percorrendo todos os números até chegar no que o usuário digitou\n",
        "      checa_primo = EPrimo(i) #recebendo a função que verifica se o número é primo na variável checa_primo\n",
        "      if checa_primo == 1:\n",
        "        numeros_primos.append(i) #adicionando o número verificado dentro do array ou não\n",
        "    print(numeros_primos)\n",
        "primeiros_primos(6)\n",
        "\n",
        "\n",
        "\n"
      ],
      "metadata": {
        "colab": {
          "base_uri": "https://localhost:8080/"
        },
        "id": "MwrlTy1zoH8l",
        "outputId": "806e9ae9-13d1-4cce-83e0-a2f15500db7c"
      },
      "execution_count": null,
      "outputs": [
        {
          "output_type": "stream",
          "name": "stdout",
          "text": [
            "2\n",
            "3\n",
            "4\n",
            "5\n",
            "6\n",
            "[2, 3, 5]\n"
          ]
        }
      ]
    },
    {
      "cell_type": "code",
      "source": [
        "#Escreva uma função que receba dois números inteiros A e B como parâme-tros de entrada e retorne 1 se A for divisível por B e 0 caso contrário.\n",
        "\n",
        "def recebe_numeros(A, B):\n",
        "    if A % B == 0:\n",
        "      return '1'\n",
        "    else:\n",
        "      return '0'\n",
        "\n",
        "recebe_numeros(5, 5)"
      ],
      "metadata": {
        "colab": {
          "base_uri": "https://localhost:8080/",
          "height": 36
        },
        "id": "mAyLFKX-N6w8",
        "outputId": "8455e8bd-b455-477a-f845-12d95cf11619"
      },
      "execution_count": null,
      "outputs": [
        {
          "output_type": "execute_result",
          "data": {
            "text/plain": [
              "'1'"
            ],
            "application/vnd.google.colaboratory.intrinsic+json": {
              "type": "string"
            }
          },
          "metadata": {},
          "execution_count": 77
        }
      ]
    },
    {
      "cell_type": "code",
      "source": [
        "# Escreva uma função que receba um número inteiro N e retorne uma lista com os bits 0 e 1, que representam N convertido para binário.\n",
        "#Não use nenhuma função Python de conversão para binários.\n",
        "#Em vez disso, elabore uma lógica baseada no processo de divisões sucessivas.\n",
        "\n",
        "import math\n",
        "\n",
        "def converte_numero(N):\n",
        "    binario = []\n",
        "    while N > 0:\n",
        "      if N %2 == 0:\n",
        "       binario.append(0)\n",
        "      else:\n",
        "       binario.append(1)\n",
        "      N = math.floor(N / 2)\n",
        "    print(binario)\n",
        "\n",
        "converte_numero(10)\n"
      ],
      "metadata": {
        "colab": {
          "base_uri": "https://localhost:8080/"
        },
        "id": "oIlJY8xHQW3u",
        "outputId": "7c12748f-6cd5-4cdf-edf2-1ff76f983ab9"
      },
      "execution_count": null,
      "outputs": [
        {
          "output_type": "stream",
          "name": "stdout",
          "text": [
            "10\n",
            "5\n",
            "2\n",
            "1\n",
            "[0, 1, 0, 1]\n"
          ]
        }
      ]
    },
    {
      "cell_type": "code",
      "source": [
        "#Escreva uma função que receba como parâmetro de entrada uma lista L de números inteiros e um valor.\n",
        "#A função deve retornar quantas vezes o valor está contido na lista. Caso ele não esteja em L, retorne 0.\n",
        "\n",
        "def lista_inteiros(Lista, valor):\n",
        "     contador = 0\n",
        "     for i in Lista:\n",
        "       if i == valor:\n",
        "        contador += 1\n",
        "     return(contador)\n",
        "\n",
        "\n",
        "lista_inteiros([1, 2, 3, 3], 3)\n"
      ],
      "metadata": {
        "colab": {
          "base_uri": "https://localhost:8080/"
        },
        "id": "c1SbhKglNckA",
        "outputId": "4f15f846-80f6-4484-86ca-cc1907ed1395"
      },
      "execution_count": null,
      "outputs": [
        {
          "output_type": "execute_result",
          "data": {
            "text/plain": [
              "2"
            ]
          },
          "metadata": {},
          "execution_count": 25
        }
      ]
    },
    {
      "cell_type": "code",
      "source": [
        "def numero_user_min_max(minimo, maximo):\n",
        "    numero = float(input(f\"Digite um número entre {minimo} e {maximo}: \"))\n",
        "    if minimo <= numero <= maximo:\n",
        "        return numero\n",
        "    else:\n",
        "       print(\"O número que você digitou não esta dentro do intervalo esperado, tente novamente!\")\n",
        "\n",
        "numero_user_min_max(10, 20)"
      ],
      "metadata": {
        "colab": {
          "base_uri": "https://localhost:8080/"
        },
        "id": "-XHferBeeKJ6",
        "outputId": "653726d6-dbe1-4924-a7ea-a1b7ea1cd195"
      },
      "execution_count": null,
      "outputs": [
        {
          "output_type": "stream",
          "name": "stdout",
          "text": [
            "Digite um número entre 10 e 20: 5\n",
            "O número não está no intervalo válido. Tente novamente.\n"
          ]
        }
      ]
    },
    {
      "cell_type": "code",
      "source": [
        " #e retorne uma tupla contendo quatro valores na seguinte ordem: a soma, a média, o menor\n",
        "#e o maior valor dentre todos os elementos nela contidos. Considere que essa lista ocorre apenas em números reais. Escreva um programa para testar essa função,\n",
        "#exibindo na tela os resultados. Neste exercício, evite utilizar as funções já existentes no Python, como sum, min e max.\n",
        "\n",
        "def recebe_uma_lista(Lista): ##Escreva uma função que receba uma lista como parâmetro de entrada\n",
        "    tupla = []\n",
        "    soma = 0\n",
        "    for i in Lista:\n",
        "      soma += i\n",
        "    tupla.append(str(soma))\n",
        "    menor = 10000000000000000000000000\n",
        "    for i in Lista:\n",
        "      if i < menor:\n",
        "       menor = i\n",
        "    tupla.append(str(menor))\n",
        "    maior = -1000000000000000000000000\n",
        "    for i in Lista:\n",
        "      if i > maior:\n",
        "        maior = i\n",
        "    tupla.append(str(maior))\n",
        "    media = soma / (len(Lista))\n",
        "    tupla.append(str(media))\n",
        "\n",
        "    print(tuple(tupla))\n",
        "\n",
        "\n",
        "recebe_uma_lista([3, 2, 1])\n",
        "\n",
        "\n"
      ],
      "metadata": {
        "id": "gxoh6-gUffqE",
        "colab": {
          "base_uri": "https://localhost:8080/"
        },
        "outputId": "025a7e21-861e-47bf-e650-944f56de06f5"
      },
      "execution_count": null,
      "outputs": [
        {
          "output_type": "stream",
          "name": "stdout",
          "text": [
            "('6', '1', '3', '2.0')\n"
          ]
        }
      ]
    },
    {
      "cell_type": "code",
      "source": [
        "#Escreva uma função que receba uma lista L e elimine os eventuais elemen-tos repetidos contidos na mesma,\n",
        "#deixando na lista resultante apenas uma ocorrência de cada elemento. Escreva um programa para testar essa fun-ção, o qual deve ler do teclado os elementos\n",
        "#que farão parte da lista. (veja o Exercício proposto 4.10)\n",
        "\n",
        "def remove_repetidos(Lista):\n",
        "    criar_nova_lista = []\n",
        "    for i in Lista:\n",
        "      if i not in criar_nova_lista:\n",
        "       criar_nova_lista.append(i)\n",
        "    print(criar_nova_lista)\n",
        "\n",
        "\n",
        "remove_repetidos([2, 2, 3, 3, 4])"
      ],
      "metadata": {
        "colab": {
          "base_uri": "https://localhost:8080/"
        },
        "id": "XP_oLfQkHR0l",
        "outputId": "24702272-9733-4cef-a501-b77e2a950773"
      },
      "execution_count": null,
      "outputs": [
        {
          "output_type": "stream",
          "name": "stdout",
          "text": [
            "[2, 3, 4]\n"
          ]
        }
      ]
    },
    {
      "cell_type": "code",
      "source": [
        "#Escreva uma função que receba duas listas L1 e L2 como parâmetro de en-trada e retorne uma lista contendo todos os elementos de L1 que não estão em L2.\n",
        "#Escreva um programa para testar essa função.\n",
        "\n",
        "def retorna_elementos(Lista1, Lista2):\n",
        "    nova_lista = []\n",
        "    for i in Lista1:\n",
        "      if i not in Lista2:\n",
        "       nova_lista.append(i)\n",
        "    print(nova_lista)\n",
        "\n",
        "retorna_elementos([1, 2, 7, 8, 9], [1, 2, 3, 4])"
      ],
      "metadata": {
        "colab": {
          "base_uri": "https://localhost:8080/"
        },
        "id": "LQsl_zm6OWAQ",
        "outputId": "c34466ad-7d3e-4d30-c475-1e4e979e7231"
      },
      "execution_count": null,
      "outputs": [
        {
          "output_type": "stream",
          "name": "stdout",
          "text": [
            "[7, 8, 9]\n"
          ]
        }
      ]
    },
    {
      "cell_type": "code",
      "source": [
        "#Escreva uma função que receba como parâmetro de entrada uma lista L e retorne uma lista organizada em ordem crescente.\n",
        "#Para fazer a ordenação, use o Algoritmo de Ordenação Bolha (Bubble Sort).\n",
        "#Crie uma segunda versão dessa função que retorne uma lista organizada em ordem decrescente.\n",
        "#Escreva um programa para testar essas duas funções. Esse programa deve ler um número inteiro N e gerar uma lista com N números inteiros aleatórios utilizando a função randint().\n",
        "#Use as duas funções de ordenação e exiba na tela as listas ordenadas crescente e decrescente.\n",
        "\n",
        "import random\n",
        "N = int(input(f\"Digite um número: \"))\n",
        "\n",
        "def lista_ordem_crescente(Lista):\n",
        "    n = len(Lista)\n",
        "    for i in range(n - 1):\n",
        "        troca = False\n",
        "        for j in range(n - 1 - i):\n",
        "            if Lista[j] > Lista[j + 1]:\n",
        "                Lista[j], Lista[j + 1] = Lista[j + 1], Lista[j]\n",
        "                troca = True\n",
        "        if not troca:\n",
        "            break\n",
        "\n",
        "\n",
        "Lista = [random.randint(1, 100)for _ in range(N)]\n",
        "lista_ordem_crescente(Lista)\n",
        "print(Lista)\n",
        "\n",
        "def lista_ordem_decrescente(Lista):\n",
        "    n = len(Lista)\n",
        "    for i in range(n - 1):\n",
        "        troca = False\n",
        "        for j in range(n - 1 - i):\n",
        "            if Lista[j] < Lista[j + 1]:\n",
        "                Lista[j], Lista[j + 1] = Lista[j + 1], Lista[j]\n",
        "                troca = True\n",
        "        if not troca:\n",
        "            break\n",
        "\n",
        "Lista = [random.randint(1, 100)for _ in range(N)]\n",
        "lista_ordem_decrescente(Lista)\n",
        "print(Lista)\n",
        "\n",
        "lista_metodo_randint = [random.randint(1, 100)for _ in range(N)]\n",
        "print(lista_metodo_randint)\n"
      ],
      "metadata": {
        "colab": {
          "base_uri": "https://localhost:8080/"
        },
        "id": "ontANB2jSjAW",
        "outputId": "59cb5e58-b30d-4778-ad91-92b8bd850099"
      },
      "execution_count": null,
      "outputs": [
        {
          "output_type": "stream",
          "name": "stdout",
          "text": [
            "[11, 12, 22, 25, 34, 64, 90]\n",
            "[90, 64, 34, 25, 22, 12, 11]\n",
            "[80, 1, 39, 95, 69]\n"
          ]
        }
      ]
    },
    {
      "cell_type": "code",
      "source": [],
      "metadata": {
        "id": "Zs9aiFY7Tvz8"
      },
      "execution_count": null,
      "outputs": []
    }
  ]
}