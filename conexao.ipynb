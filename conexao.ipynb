{
  "nbformat": 4,
  "nbformat_minor": 0,
  "metadata": {
    "colab": {
      "provenance": [],
      "authorship_tag": "ABX9TyMinC7xt5QAAjpRZBSccfGv",
      "include_colab_link": true
    },
    "kernelspec": {
      "name": "python3",
      "display_name": "Python 3"
    },
    "language_info": {
      "name": "python"
    }
  },
  "cells": [
    {
      "cell_type": "markdown",
      "metadata": {
        "id": "view-in-github",
        "colab_type": "text"
      },
      "source": [
        "<a href=\"https://colab.research.google.com/github/AlessandraSM/Faculdade-Toledo/blob/main/conexao.ipynb\" target=\"_parent\"><img src=\"https://colab.research.google.com/assets/colab-badge.svg\" alt=\"Open In Colab\"/></a>"
      ]
    },
    {
      "cell_type": "code",
      "execution_count": null,
      "metadata": {
        "colab": {
          "base_uri": "https://localhost:8080/"
        },
        "id": "dzHPP28gs0R8",
        "outputId": "c35fde4e-0a34-479a-f049-3b2b41f0bfe4"
      },
      "outputs": [
        {
          "output_type": "stream",
          "name": "stdout",
          "text": [
            "Aeroporto A\n",
            "Aeroporto B\n",
            "Digite o código do voo: 2222\n",
            "Digite a origem do voo:Presidente Prudente\n",
            "Digite o destino do voo:São Paulo\n",
            "{'código': '2222', 'origem': 'Presidente Prudente', 'destino': 'São Paulo', 'conexoes': None}\n"
          ]
        }
      ],
      "source": [
        "class NodeVoo:\n",
        "    def __init__(self, conexao):\n",
        "        self.conexao = conexao\n",
        "        self.proximo = None\n",
        "\n",
        "    def __repr__(self):\n",
        "        return f'{self.conexao} -> {self.proximo}'\n",
        "\n",
        "    def __str__(self):\n",
        "        return self.__repr__\n",
        "\n",
        "voo1 = NodeVoo(\"Aeroporto A\")#variável voo1 recece o No de voo Aeroporto A\n",
        "voo2 = NodeVoo(\"Aeroporto B\")#variável voo2 recece o No de voo Aeroporto B\n",
        "voo1.proximo = voo2 #chamo a variável voo1 indico o proximo que é uma valor que foi passado dentro do inicializador ela recebe agora o voo2\n",
        "print(voo1.conexao)\n",
        "print(voo2.conexao)\n",
        "\n",
        "class EmpresaVoo:#criando a classe para voos onde ela recebe um parâmetro e dentro contém uma váriável que recebe um dicionário.\n",
        "    def __init__(self):\n",
        "        self.voos = {}\n",
        "\n",
        "#from conexao import NodeVoo #se estivesse em arquivo separado no vs code nesse momento eu a importaria from nomedoarquivo import o nome do NÓ\n",
        "\n",
        "    def cadastro(self):\n",
        "        codigovoo = input('Digite o código do voo: ')\n",
        "        origem = input('Digite a origem do voo:')\n",
        "        destino = input('Digite o destino do voo:')\n",
        "\n",
        "        novo_cadastro_voo = {\n",
        "            'código': codigovoo,\n",
        "            'origem': origem,\n",
        "            'destino': destino,\n",
        "            'conexoes': None\n",
        "        }\n",
        "        self.voos = novo_cadastro_voo\n",
        "\n",
        "    def adicionar_conexao(self, codigo_identificador_voo):\n",
        "        if codigo_identificador_voo in self.voos:\n",
        "            conexao = input(f'Adicione uma conexão para o voo {codigo_identificador_voo}: ')\n",
        "            self.voos[codigo_identificador_voo]['conexoes'].append(conexao)\n",
        "        else:\n",
        "            print(f\"{codigo_identificador_voo} Este voo não foi encontrado.\")\n",
        "\n",
        "voo = EmpresaVoo()\n",
        "voo.cadastro()\n",
        "print(voo.voos)\n",
        "\n",
        "\n",
        "\n",
        "\n",
        "\n",
        "\n",
        "\n"
      ]
    }
  ]
}