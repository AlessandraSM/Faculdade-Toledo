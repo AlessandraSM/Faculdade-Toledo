{
  "nbformat": 4,
  "nbformat_minor": 0,
  "metadata": {
    "colab": {
      "provenance": [],
      "authorship_tag": "ABX9TyN4F7kasN+ow/lvIqV7Aw16",
      "include_colab_link": true
    },
    "kernelspec": {
      "name": "python3",
      "display_name": "Python 3"
    },
    "language_info": {
      "name": "python"
    }
  },
  "cells": [
    {
      "cell_type": "markdown",
      "metadata": {
        "id": "view-in-github",
        "colab_type": "text"
      },
      "source": [
        "<a href=\"https://colab.research.google.com/github/AlessandraSM/Faculdade-Toledo/blob/main/Retomando_o_problema_02.ipynb\" target=\"_parent\"><img src=\"https://colab.research.google.com/assets/colab-badge.svg\" alt=\"Open In Colab\"/></a>"
      ]
    },
    {
      "cell_type": "markdown",
      "source": [
        "A primeira coisa que me veio à cabeça foi pensar em qual propriedade do Python poderia selecionar um elemento aleatoriamente. Durante as aulas aprendi muitas opções de manipulação do código mas ao pesquisar, descobri uma prorpiedade diferente \"random.choice\" e optei por utiliza-la. Na primeira tentativa de fazer o exercício, percebi que estava ficando repetitivo demais. Criei 4 variáveis ​​que recebiam 13 itens, mas cheguei à conclusão de que estava errado, pois o anunciado pediu um programa que escolhesse cinco cartas e não apenas 4. Foi aí que percebi que deveria fazer algumas mudanças. Decidi criar apenas 1 variável para os naipes e outra para os números, de forma que pudesse realizar os cinco sorteios aleatórios.Na segunda tentativa consegui realizar o programa. A aulas tem ajudado a entender como estruturar e manipular os dados e com base nas orientações consegui realizar o exercício e segui o que se chama de clean code \"código limpo\" boas práticas! Como aprendi a pensar em variáveis no sentido camel case de javascript apliquei aqui, mas sei que Python poderia utilizar _ para separar a informação."
      ],
      "metadata": {
        "id": "LElCogni2cMU"
      }
    },
    {
      "cell_type": "code",
      "source": [
        "#PRIMEIRA TENTATIVA CÓDIGO MUITO REPETITIVO\n",
        "import random\n",
        "\n",
        "nome = input('Digite o seu nome')\n",
        "print (f'Agora vou selecionar algumas cartas de um baralho para {nome} jogar.')\n",
        "listaCopas = [1, 2, 3, 4, 5, 6, 7, 8, 9, 10, 11, 12, 13]\n",
        "copas = random.choice(listaCopas)\n",
        "listaPaus = [1, 2, 3, 4, 5, 6, 7, 8, 9, 10, 11, 12, 13]\n",
        "paus = random.choice(listaCopas)\n",
        "listaEspadas = [1, 2, 3, 4, 5, 6, 7, 8, 9, 10, 11, 12, 13]\n",
        "espadas = random.choice(listaCopas)\n",
        "listaOuros = [1, 2, 3, 4, 5, 6, 7, 8, 9, 10, 11, 12, 13]\n",
        "ouros = random.choice(listaCopas)\n",
        "\n",
        "print(f'Cartas aleatórias {copas} de Copas .')\n",
        "print(f'Cartas aleatórias {ouros} de Ouros .')\n",
        "print(f'Cartas aleatórias {espadas} de Espadas.')\n",
        "print(f'Cartas aleatórias {paus} de Paus.')\n"
      ],
      "metadata": {
        "colab": {
          "base_uri": "https://localhost:8080/"
        },
        "id": "x9XG3Mh-2nRL",
        "outputId": "35f0dc1a-7af6-43a4-cce7-9868a041b1c0"
      },
      "execution_count": null,
      "outputs": [
        {
          "output_type": "stream",
          "name": "stdout",
          "text": [
            "Digite o seu nomeAlessandra\n",
            "Agora vou selecionar algumas cartas de um baralho para Alessandra jogar.\n",
            "Cartas aleatórias 1 de Copas .\n",
            "Cartas aleatórias 12 de Ouros .\n",
            "Cartas aleatórias 5 de Espadas.\n",
            "Cartas aleatórias 6 de Paus.\n"
          ]
        }
      ]
    },
    {
      "cell_type": "code",
      "execution_count": null,
      "metadata": {
        "colab": {
          "base_uri": "https://localhost:8080/"
        },
        "id": "miK9NlM_2Wnr",
        "outputId": "6f544a9d-ea3c-4b94-f681-5c2d8fe9272b"
      },
      "outputs": [
        {
          "output_type": "stream",
          "name": "stdout",
          "text": [
            "7 de copas\n",
            "12 de ouros\n",
            "13 de ouros\n",
            "5 de espada\n",
            "7 de paus\n"
          ]
        }
      ],
      "source": [
        "import random\n",
        "cartas = [1, 2, 3, 4, 5, 6, 7, 8, 9, 10, 11, 12, 13]\n",
        "naipes = ['ouros', 'espada', 'paus', 'copas']\n",
        "primeiraCarta = str(random.choice(cartas)) + ' de ' + str(random.choice(naipes))\n",
        "segundaCarta = str(random.choice(cartas)) + ' de ' + str(random.choice(naipes))\n",
        "terceiraCarta = str(random.choice(cartas)) + ' de ' + str(random.choice(naipes))\n",
        "quartaCarta = str(random.choice(cartas)) + ' de ' + str(random.choice(naipes))\n",
        "quintaCarta = str(random.choice(cartas)) + ' de ' + str(random.choice(naipes))\n",
        "\n",
        "print(primeiraCarta)\n",
        "print(segundaCarta)\n",
        "print(terceiraCarta)\n",
        "print(quartaCarta)\n",
        "print(quintaCarta)"
      ]
    }
  ]
}