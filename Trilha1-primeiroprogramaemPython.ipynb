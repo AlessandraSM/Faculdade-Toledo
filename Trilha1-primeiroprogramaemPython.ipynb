{
  "nbformat": 4,
  "nbformat_minor": 0,
  "metadata": {
    "colab": {
      "provenance": [],
      "authorship_tag": "ABX9TyNpqrRyP7Kx+wf2R7zok2oR",
      "include_colab_link": true
    },
    "kernelspec": {
      "name": "python3",
      "display_name": "Python 3"
    },
    "language_info": {
      "name": "python"
    }
  },
  "cells": [
    {
      "cell_type": "markdown",
      "metadata": {
        "id": "view-in-github",
        "colab_type": "text"
      },
      "source": [
        "<a href=\"https://colab.research.google.com/github/AlessandraSM/Faculdade-Toledo/blob/main/Trilha1-primeiroprogramaemPython.ipynb\" target=\"_parent\"><img src=\"https://colab.research.google.com/assets/colab-badge.svg\" alt=\"Open In Colab\"/></a>"
      ]
    },
    {
      "cell_type": "code",
      "execution_count": null,
      "metadata": {
        "id": "pPNjMi54qMAk"
      },
      "outputs": [],
      "source": [
        "#Meu primeiro programa em Python //Normalmente comentáva assim em Javascript\n",
        "from time import sleep, strftime #aqui são as importações das bibliotecas dependendo do sistema utilizo uma determinada biblioteca\n",
        "while True: #Laço quando quero que o sistema fica correndo um techo de código, lendo um trecho de código true uma condição\n",
        "    hora = strftime('%H:%M:%S') #aqui minha variável hora guarda a biblioteca\n",
        "    print(hora) #aqui o print é um comando que imprime na Tela\n",
        "    sleep(1) #outra biblioteca é invocada com um valor dentro a cada 1 segundo será apresentado na tela a variável HORA\n"
      ]
    },
    {
      "cell_type": "code",
      "source": [],
      "metadata": {
        "id": "z3OK3h4s1lu9"
      },
      "execution_count": null,
      "outputs": []
    }
  ]
}