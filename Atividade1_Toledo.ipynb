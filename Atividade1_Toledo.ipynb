{
  "nbformat": 4,
  "nbformat_minor": 0,
  "metadata": {
    "colab": {
      "provenance": [],
      "authorship_tag": "ABX9TyMLtaEdyKx9MTgMem0areGt",
      "include_colab_link": true
    },
    "kernelspec": {
      "name": "python3",
      "display_name": "Python 3"
    },
    "language_info": {
      "name": "python"
    }
  },
  "cells": [
    {
      "cell_type": "markdown",
      "metadata": {
        "id": "view-in-github",
        "colab_type": "text"
      },
      "source": [
        "<a href=\"https://colab.research.google.com/github/AlessandraSM/Faculdade-Toledo/blob/main/Atividade1_Toledo.ipynb\" target=\"_parent\"><img src=\"https://colab.research.google.com/assets/colab-badge.svg\" alt=\"Open In Colab\"/></a>"
      ]
    },
    {
      "cell_type": "markdown",
      "source": [
        "Capítulo 2, Tópico Exercícios propostos, páginas 47 e 48, Exercícios 1 ao 10. Senti dificuldades ao realizar esses exercícios, mas ao pesquisar e buscar informações alguns acredito que consegui entender mas outros nem tanto."
      ],
      "metadata": {
        "id": "BWGjxoR0bhv_"
      }
    },
    {
      "cell_type": "code",
      "execution_count": null,
      "metadata": {
        "id": "qdO20_6ArteZ"
      },
      "outputs": [],
      "source": [
        "#Faça X = 0.0 e Y = 18. Verifique o tipo de dado que o Python atribuiu a cada um.\n",
        "X = 0.0\n",
        "Y = 18\n",
        "print(type(X))\n",
        "#print(type(Y))\n",
        "#Faça Z = X + Y e verifique o resultado calculado e armazenado em Z.\n",
        "Z = X + Y\n",
        "#print(Z)\n",
        "#Verifique com qual tipo de dado foi criado o objeto Z.\n",
        "#print(type(Z))\n"
      ]
    },
    {
      "cell_type": "code",
      "source": [
        "#Atribua um valor qualquer a um objeto a (minúsculo).\n",
        "valorQualquer = 'a'\n",
        "#Utilize o comando type ou o comando print com o objeto A (maiúsculo).\n",
        "#print(type(A))\n",
        "#Relate o que aconteceu.\n",
        "#Deu um erro, variável não definida pois estou dando print de 'A' e não de 'a'\n"
      ],
      "metadata": {
        "id": "tHKqvVsUs4Nk"
      },
      "execution_count": null,
      "outputs": []
    },
    {
      "cell_type": "code",
      "source": [
        "#No IDLE, faça A = “Questão 3”, B = 25 e C = 3.9.\n",
        "A = 'Questão 3'\n",
        "B = 25\n",
        "C = 3.9\n",
        "#Utilize o comando type para verificar qual é o tipo de dado dos objetos A, B e C.\n",
        "print(type(A)) #String devolve texto\n",
        "print(type(B)) # inteiro número\n",
        "print(type(C))  #float números decimais\n"
      ],
      "metadata": {
        "id": "vV67IgnvulQ1"
      },
      "execution_count": null,
      "outputs": []
    },
    {
      "cell_type": "code",
      "source": [
        "#Reproduza em um programa todos os casos de operações aritméticas do Quadro 2.1, para A = 14 e B = 5,\n",
        "#e compare os valores obtidos por você com os valores esperados constantes do quadro.\n",
        "A = 14\n",
        "B = 5\n",
        "\n",
        "adicao = (A + B)\n",
        "print(adicao)\n",
        "multiplicacao = (A * B)\n",
        "print(multiplicacao)\n",
        "divisao = (A / B)\n",
        "print(divisao)\n",
        "subtracao = ( A - B)\n",
        "print(subtracao)\n",
        "\n",
        "if adicao == 14:\n",
        "    print('O resultado é o esperado')\n",
        "else:\n",
        "    print('O resultado não é o esperado')\n",
        "\n",
        "if multiplicacao == 14:\n",
        "    print('O resultado é o esperado')\n",
        "else:\n",
        "    print('O resultado não é o esperado')\n",
        "\n",
        "if divisao == 14:\n",
        "    print('O resultado é o esperado')\n",
        "else:\n",
        "    print('O resultado não é o esperado')\n",
        "\n",
        "if subtracao == 14:\n",
        "    print('O resultado é o esperado')\n",
        "else:\n",
        "    print('O resultado não é o esperado')\n"
      ],
      "metadata": {
        "id": "y3ZrdZ16v2ra"
      },
      "execution_count": null,
      "outputs": []
    },
    {
      "cell_type": "code",
      "source": [
        " #Escreva a sequência de comandos necessária para o cálculo da área de um triângulo de base 9 e altura 6.\n",
        "base = 9\n",
        "altura = 6\n",
        "print((base * altura) / 2)"
      ],
      "metadata": {
        "colab": {
          "base_uri": "https://localhost:8080/"
        },
        "id": "wvBoyx4n1cjF",
        "outputId": "2e65d9ce-98d3-4c52-ecc9-ebd2a32a4a95"
      },
      "execution_count": null,
      "outputs": [
        {
          "output_type": "stream",
          "name": "stdout",
          "text": [
            "27.0\n"
          ]
        }
      ]
    },
    {
      "cell_type": "code",
      "source": [
        "#Refaça o exercício 5 alterando-o de modo que a base e a altura do triângulo sejam lidas do teclado.\n",
        "#Considere-as números reais.\n",
        "baseUser = int(input('Digite a base do triângulo'))\n",
        "ladoUser = int(input('Digite o lado do triângulo'))\n",
        "\n",
        "calculando = baseUser * ladoUser /2\n",
        "\n",
        "print(f'Área total do triângulo é: {calculando}')"
      ],
      "metadata": {
        "colab": {
          "base_uri": "https://localhost:8080/"
        },
        "id": "kU5KUXi43MAT",
        "outputId": "6b8c0242-902c-4533-fad6-e1d2e1d32491"
      },
      "execution_count": null,
      "outputs": [
        {
          "output_type": "stream",
          "name": "stdout",
          "text": [
            "Digite a base do triângulo9\n",
            "Digite o lado do triângulo6\n",
            "Área total do triângulo é: 27.0\n"
          ]
        }
      ]
    },
    {
      "cell_type": "code",
      "source": [
        "#Escreva a sequência de comandos para calcular o salário bruto de um pro-fissional que ganha por hora,\n",
        "#sabendo que ele ganha R$ 14,25/h e trabalhou 163 horas normais e 20 horas extras (pagam o dobro).\n",
        "\n",
        "valorHora = 14.25\n",
        "horaNormal = 163\n",
        "horasExtras = 20\n",
        "calculaHorasExtra = valorHora * 2 #Dobro\n",
        "print(calculaHorasExtra)\n",
        "\n",
        "calculoHoraNormal = valorHora * horaNormal #Pego quanto ganha por hora * hora normal\n",
        "calculoHoraExtra = calculaHorasExtra * horasExtras #Pego as horas extras * horasExtras\n",
        "resultSalario = calculoHoraNormal + calculoHoraExtra #Faço o resultado final do salário soma do calculo da hora Normal + a Hora Extra\n",
        "print('Seu salário bruto: ', resultSalario)\n",
        "\n"
      ],
      "metadata": {
        "id": "UEbztLruEGt-"
      },
      "execution_count": null,
      "outputs": []
    },
    {
      "cell_type": "code",
      "source": [
        "#Exercício 8\n",
        "#Definindo as entradas e seus valores\n",
        "A = 4\n",
        "B = 5\n",
        "C = 1\n",
        "\n",
        "x1 = 1\n",
        "y1 = 8\n",
        "x2 = 4\n",
        "y2 = 5\n",
        "\n",
        "# 8.A\n",
        "\n",
        "item_A =  (A + B) / 2\n",
        "print('Resultado de Item A:', item_A)\n",
        "\n",
        "#import math #Essa é a biblioteca utilizada para fazer calculos em raiz\n",
        "#mas também posso fazer dessa forma sem uso da Biblioteca math e método pow\n",
        "\n",
        "item_B = (-B + (B**2 - 4*A*C)**0.5) / (2*A)\n",
        "print('Resultado de Item B:', item_B)\n",
        "\n",
        "item_C = (3*A) + (2 *B) / (A + B)\n",
        "print('Resultado de Item C:', item_C)\n",
        "\n",
        "item_D = 7 * (6*A) - B\n",
        "#Aqui surgiu dúvida em relação ao B elevado 1,7 (verificar elevação dentro de Python)\n",
        "print('Resultado de Item D:', item_D)\n",
        "\n",
        "item_E = (x1 - x2) *2 + (y1 -y1) * 2\n",
        "print('Resultado de Item E:', item_E)\n",
        "\n",
        "#Fiquei confusa com esse exercício durante as aulas não tivemos explicação de calculos com raiz quadrada nem durante esse exercício não constava valores apenas para y e sim para y2.\n",
        "#Mas tentei fazer baseada em pesquisas e tentei entender o exercício.\n",
        "\n",
        "\n"
      ],
      "metadata": {
        "id": "cnjbHM0sNEFX",
        "colab": {
          "base_uri": "https://localhost:8080/"
        },
        "outputId": "b3d014ed-4b77-4f11-d07e-f6eacef6e40b"
      },
      "execution_count": null,
      "outputs": [
        {
          "output_type": "stream",
          "name": "stdout",
          "text": [
            "Resultado de Item A: 4.5\n",
            "Resultado de Item B: -0.25\n",
            "Resultado de Item C: 13.11111111111111\n",
            "Resultado de Item D: 163\n",
            "Resultado de Item E: -6\n"
          ]
        }
      ]
    },
    {
      "cell_type": "code",
      "source": [
        "#Escreva um programa que leia do teclado as coordenadas (x1 , y1) do ponto 1 e (x2, y2) do ponto 2.\n",
        "#Utilizando a expressão do item 8.e, determine a distância\n",
        "#entre esses dois pontos e exiba-a na tela com três casas decimais. Teste-o com os dados da tabela a seguir.\n",
        "\n",
        "# Fazendo uma pergunta ao usuário\n",
        "userNumber_x1 = input('Digite um número decimal do ponto de vista 1: ')\n",
        "userNumber_y1 = input('Digite um número decimal do ponto de vista 1: ')\n",
        "userNumber_x2 = input('Digite um número decimal do ponto de vista 2: ')\n",
        "userNumber_y2 = input('Digite um número decimal do ponto de vista 2: ')\n",
        "\n",
        "# Convertendo a entrada para um número decimal\n",
        "numero_decimal_x1 = float(userNumber_x1)\n",
        "numero_decimal_y1 = float(userNumber_y1)\n",
        "numero_decimal_x2 = float(userNumber_x2)\n",
        "numero_decimal_y2 = float(userNumber_y2)\n",
        "\n",
        "# Realizando operações\n",
        "import math #estou importando a biblioteca porém não estou usando o método pow não sei o que fazer aqui, não sei se estou no caminho certo.\n",
        "resultado_d = (numero_decimal_x1 - numero_decimal_x2) + (numero_decimal_y1 - numero_decimal_y2)\n",
        "# Exibindo o resultado\n",
        "print(\"O resultado é:\", resultado_d)\n"
      ],
      "metadata": {
        "id": "UVfK1qutNmf3"
      },
      "execution_count": null,
      "outputs": []
    },
    {
      "cell_type": "code",
      "source": [
        "bonecoMalandrinho = float(input('Digite a quantidade vendida do Boneco Malandrinho: '))\n",
        "precoBoneco = float(input('Digite o valor unitário do Boneco Malandrinho: '))\n",
        "resultadoBonecoMalandrinho = bonecoMalandrinho * precoBoneco\n",
        "\n",
        "\n",
        "\n",
        "spinnerPequeno = float(input('Digite a quantidade vendida do Spinner Pequeno: '))\n",
        "precoSpinnerPequeno = float(input('Digite o valor unitário do Spinner Pequeno: '))\n",
        "resultSpinnerPequeno = spinnerPequeno * precoSpinnerPequeno\n",
        "\n",
        "\n",
        "cuboMagico = float(input('Digite a quantidade vendida do Cubo Mágico: '))\n",
        "precoCuboMagico = float(input('Digite o valor unitário do CuboMagico: '))\n",
        "resultCuboMagico = cuboMagico * precoCuboMagico\n"
      ],
      "metadata": {
        "id": "dmQJmhQrNqi6"
      },
      "execution_count": null,
      "outputs": []
    },
    {
      "cell_type": "markdown",
      "source": [
        "Capítulo 3, Tópico Exercícios propostos, páginas 74 a 76, Exercícios 1 ao 10."
      ],
      "metadata": {
        "id": "gw8PdX3_b-nj"
      }
    },
    {
      "cell_type": "code",
      "source": [
        "#Uso de condições simples: considerando os valores fornecidos, avalie cada condição e informe se o resultado é falso (False) ou verdadeiro (True).\n",
        "#Avalie cada condição e anote o resultado que teste essas condições no IDLE do Python, conforme mostrado na Figura 3.2.\n",
        "\n",
        "A = 0\n",
        "B = -3\n",
        "#CONDIÇÃO\n",
        "A > B\n",
        "#TRUE A vale zero que é maior que qualquer número negativo\n",
        "X = 3.7\n",
        "X <= 10.0\n",
        "#TRUE X vale 3.7 sendo menor que 10\n",
        "A = 9\n",
        "B = 16\n",
        "A - B > 0\n",
        "#FALSE o resultado é -7 que não será maior nunca do que 0\n",
        "A = 2\n",
        "B = 4\n",
        "N = 10\n",
        "A * B < N\n",
        "# FALSE o resultado é 8 e oito é menor que 10.\n",
        "A = 2\n",
        "B = 9\n",
        "C = 5\n",
        "10 * A >= B * C\n",
        "#FALSE o primeiro resultado é 20 que não é menor ou igual à 45 segundo resultado.\n",
        "A = 3\n",
        "B = 6\n",
        "C = 5\n",
        "10 * A >= B * C\n",
        "#TRUE o primeiro resultado é 30 portando o resultado é menor ou igual ao segundo resultado 30.\n",
        "N = 7\n",
        "N % 2 == 0\n",
        "#FALSE verificamos o resto da divisão que neste caso é 1 que não é igual a zero.\n",
        "N = 8\n",
        "N % 2 == 0\n",
        "#TRUE verificamos o resto da divião que neste caso é zero.\n",
        "T = 'MORANGO'\n",
        "T == 'BANANA'\n",
        "#FALSE ele identifica string´s diferentes dentro da variável.\n",
        "T = 'MORANGO'\n",
        "T > 'BANANA'\n",
        "#TRUE a string MORANGO contém mais letras que BANANA.\n"
      ],
      "metadata": {
        "colab": {
          "base_uri": "https://localhost:8080/"
        },
        "id": "Wxot_7lDcoCy",
        "outputId": "57f1d8b5-ee5e-4509-a386-39d234963c2b"
      },
      "execution_count": null,
      "outputs": [
        {
          "output_type": "execute_result",
          "data": {
            "text/plain": [
              "True"
            ]
          },
          "metadata": {},
          "execution_count": 163
        }
      ]
    },
    {
      "cell_type": "code",
      "source": [
        "# Uso de condições compostas: considerando os valores fornecidos, avalie cada condição composta e informe se o resultado é falso (False) ou verdadeiro (True).\n",
        "#Faça o teste dessas condições no IDLE do Python.\n",
        "\n",
        "A = 10\n",
        "B = 15\n",
        "C = 4\n",
        "A < B and A < C\n",
        "#FALSE A primeira expressão é verdadeira porém a segunda é falsa e por isso ele devolve false, precisamos de duas verdades para que seja true.\n",
        "\n",
        "A = 10\n",
        "B = 15\n",
        "C = 4\n",
        "A < B or A < C\n",
        "#TRUE A primeira expressão é verdade ou a segunda também é verdade, para duas verdades true.\n",
        "\n",
        "A = 1\n",
        "B = 9\n",
        "C = 0\n",
        "\n",
        "A >= 0 and B == C\n",
        "#FALSE Temos a primeira expressão verdadeira e a segunda falsa, portanto temos false.\n",
        "\n",
        "A = 1\n",
        "B = 9\n",
        "C = 9\n",
        "\n",
        "A >= 0 and B == C\n",
        "# TRUE Temos duas verdades, portanto true.\n",
        "\n",
        "A = 1\n",
        "B = 9\n",
        "C = 0\n",
        "\n",
        "A >= 0 or B == C\n",
        "#TRUE pq o operador OR retorna TRUE se pelos menos uma das condições forem verdadeiras.\n",
        "\n",
        "A = 1\n",
        "B = 9\n",
        "C = 9\n",
        "\n",
        "A >= 0 or B == C\n",
        "#TRUE o operador identificou true para ambas expressão.\n",
        "\n",
        "A = 0\n",
        "B = 0\n",
        "C = 0\n",
        "\n",
        "B != 0 and A != C\n",
        "#FALSE ambas empressões são falsas B = 0 e A = C\n",
        "\n",
        "\n",
        "A = 0\n",
        "B = 0\n",
        "C = 25\n",
        "\n",
        "B != 0 and A != C\n",
        "#FALSE para que a exmpressão seja avaliada como \"True\" com o operador and ambas as condições devem ser verdadeiras.\n",
        "\n",
        "A = 0\n",
        "B = 0\n",
        "C = 0\n",
        "\n",
        "B != 0 or A != C\n",
        "#FALSE ambas expressões são false, o operador OR retorna true quando apenas uma das expressões são verdade, nesse caso ambas são false.\n",
        "\n",
        "A = 0\n",
        "B = 0\n",
        "C = 25\n",
        "\n",
        "B != 0 or A != C\n",
        "#TRUE aqui fica bem claro como trabalhar com o operador OR ao identicar que a segunda expressão é verdade ele ja retorna true.\n",
        "\n"
      ],
      "metadata": {
        "colab": {
          "base_uri": "https://localhost:8080/"
        },
        "id": "ShhkO4f4roLX",
        "outputId": "2a4d9870-3c2d-444c-d765-1cf182edd402"
      },
      "execution_count": null,
      "outputs": [
        {
          "output_type": "execute_result",
          "data": {
            "text/plain": [
              "True"
            ]
          },
          "metadata": {},
          "execution_count": 164
        }
      ]
    },
    {
      "cell_type": "code",
      "source": [
        "# Uso de condições mistas: considerando os valores fornecidos, avalie cada condição composta e informe se o resultado é falso (False) ou verdadeiro (True).\n",
        "#Faça o teste dessas condições no IDLE do Python.\n",
        "\n",
        "A = 10\n",
        "B = 15\n",
        "C = 4\n",
        "\n",
        "A < B and A < C or C != 0\n",
        "#TRUE a primeira expressão é verdade a segunda é false e a terceira é verdade portando retorna true quando uma das expressões for verdade.\n",
        "\n",
        "A = 10\n",
        "B = 15\n",
        "C = 4\n",
        "\n",
        "A < B and (A < C or C != 0)\n",
        "# TRUE Trabalhando com o operador OR sera verdade se apenas uma das condições for verdadeira, aqui temos duas expressões verdadeiras com o operador OR.\n",
        "\n",
        "A = 1\n",
        "B = 9\n",
        "C = 0\n",
        "\n",
        "not (A >= 0 and B == C)\n",
        "#TRUE - dentro da exmpressão temos dois resultado true e false = false mas fora da expressão estamos negando o resultado not false que é a parte interna da expressão por isso resultado true.\n",
        "\n",
        "\n",
        "A = 1\n",
        "B = 9\n",
        "C = 9\n",
        "\n",
        "not (A >= 0) and not (B == C)\n",
        "#FALSE temos duas expressões verdadeiras e estamos negando a verdade portanto é false.\n",
        "\n",
        "\n",
        "A = 1\n",
        "B = 9\n",
        "C = 0\n",
        "\n",
        "(A >= 0 or B == C) and B > A\n",
        "#TRUE na primeira expressão temos uma verdade com operador OR A>=0 and B > A\n",
        "\n",
        "A = -2\n",
        "B = 0\n",
        "C = 2\n",
        "\n",
        "not (A <= B) or C > B\n",
        "#TRUE temos duas expressões verdadeiras que ao n\n",
        "\n",
        "\n",
        "\n",
        "\n",
        "\n",
        "\n",
        "\n",
        "\n"
      ],
      "metadata": {
        "colab": {
          "base_uri": "https://localhost:8080/"
        },
        "id": "Ui_BepN0-LKj",
        "outputId": "7a61f751-75dd-4899-c4f1-9de2a29712bc"
      },
      "execution_count": null,
      "outputs": [
        {
          "output_type": "execute_result",
          "data": {
            "text/plain": [
              "True"
            ]
          },
          "metadata": {},
          "execution_count": 109
        }
      ]
    }
  ]
}