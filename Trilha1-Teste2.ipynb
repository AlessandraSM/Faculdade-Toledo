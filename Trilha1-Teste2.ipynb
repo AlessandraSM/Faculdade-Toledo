{
  "cells": [
    {
      "cell_type": "markdown",
      "metadata": {
        "id": "view-in-github",
        "colab_type": "text"
      },
      "source": [
        "<a href=\"https://colab.research.google.com/github/AlessandraSM/Faculdade-Toledo/blob/main/Trilha1-Teste2.ipynb\" target=\"_parent\"><img src=\"https://colab.research.google.com/assets/colab-badge.svg\" alt=\"Open In Colab\"/></a>"
      ]
    },
    {
      "cell_type": "code",
      "execution_count": null,
      "metadata": {
        "colab": {
          "base_uri": "https://localhost:8080/"
        },
        "id": "HK0HBErp4r0p",
        "outputId": "9a76333a-2552-431f-e1a6-0ffc73c0ff76"
      },
      "outputs": [
        {
          "name": "stdout",
          "output_type": "stream",
          "text": [
            "Hello World, bora pra cima\n"
          ]
        }
      ],
      "source": [
        "print('Hello World, bora pra cima')"
      ]
    },
    {
      "cell_type": "code",
      "execution_count": null,
      "metadata": {
        "id": "5Yh0QB3t3ZCp"
      },
      "outputs": [],
      "source": []
    },
    {
      "cell_type": "code",
      "execution_count": null,
      "metadata": {
        "id": "1BESysAE49Gv"
      },
      "outputs": [],
      "source": [
        "#Meu primeiro programa em Python //Normalmente comentáva assim em Javascript\n",
        "from time import sleep, strftime #aqui são as importações das bibliotecas dependendo do sistema utilizo uma determinada biblioteca\n",
        "while True: #Laço quando quero que o sistema fica correndo um techo de código, lendo um trecho de código true uma condição\n",
        "    hora = strftime('%H:%M:%S') #aqui minha variável hora guarda a biblioteca\n",
        "    print(hora) #aqui o print é um comando que imprime na Tela\n",
        "    sleep(1) #outra biblioteca é invocada com um valor dentro a cada 1 segundo será apresentado na tela a variável HORA"
      ]
    },
    {
      "cell_type": "code",
      "execution_count": null,
      "metadata": {
        "id": "Ugn7VJdkuc5R"
      },
      "outputs": [],
      "source": []
    },
    {
      "cell_type": "markdown",
      "metadata": {
        "id": "P2Bt8Ial9Sh9"
      },
      "source": [
        "Compreenda como é a organização de dados manipuláveis por um algoritmo na memória do computador;\n",
        "Identifique os tipos de dados básicos da linguagem Python;\n",
        "Escreva expressões usando operadores lógicos e relacionais;\n",
        "Utilize a função input() para entrada de dados;\n",
        "Avalie a necessidade de realizar a conversão da entrada de dados."
      ]
    },
    {
      "cell_type": "code",
      "execution_count": null,
      "metadata": {
        "colab": {
          "base_uri": "https://localhost:8080/"
        },
        "id": "hCDefGWX9nzT",
        "outputId": "22a76bcc-cdcc-472d-d7d3-cb8a3027f97b"
      },
      "outputs": [
        {
          "name": "stdout",
          "output_type": "stream",
          "text": [
            "False\n"
          ]
        }
      ],
      "source": [
        "num1 = 2\n",
        "num2 = 5\n",
        "soma = num1 + num2\n",
        "print(num1>num2)"
      ]
    },
    {
      "cell_type": "markdown",
      "metadata": {
        "id": "NuTQnskDwXtI"
      },
      "source": [
        "a = 2\n",
        "b = 3\n",
        "print(a + b)"
      ]
    },
    {
      "cell_type": "code",
      "execution_count": null,
      "metadata": {
        "colab": {
          "base_uri": "https://localhost:8080/"
        },
        "id": "X8GGwqdcwjX2",
        "outputId": "a2ba339b-8d7b-44a6-e491-e0c35e9ba747"
      },
      "outputs": [
        {
          "name": "stdout",
          "output_type": "stream",
          "text": [
            "5\n"
          ]
        }
      ],
      "source": [
        "a = 2\n",
        "b = 3\n",
        "print(a + b)"
      ]
    },
    {
      "cell_type": "code",
      "execution_count": null,
      "metadata": {
        "colab": {
          "base_uri": "https://localhost:8080/"
        },
        "id": "AjIoLauAufCy",
        "outputId": "0c4428af-4524-4aea-bdbe-6a204b381e5f"
      },
      "outputs": [
        {
          "name": "stdout",
          "output_type": "stream",
          "text": [
            "(0, 75, 0, 75, 0, 75, 0, 75, 0, 75, 0, 75, 0, 75, 0, 75, 0, 75, 0, 75, 0, 75, 0, 75, 0, 75, 0, 75, 0, 75, 0, 75, 0, 75, 0, 75, 0, 75, 0, 75, 0, 75, 0, 75, 0, 75, 0, 75, 0, 75, 0, 75, 0, 75, 0, 75, 0, 75, 0, 75, 0, 75, 0, 75, 0, 75, 0, 75, 0, 75, 0, 75, 0, 75, 0, 75, 0, 75, 0, 75, 0, 75, 0, 75, 0, 75, 0, 75, 0, 75, 0, 75, 0, 75, 0, 75, 0, 75, 0, 75, 0, 75, 0, 75, 0, 75, 0, 75, 0, 75, 0, 75, 0, 75, 0, 75, 0, 75, 0, 75)\n"
          ]
        }
      ],
      "source": [
        "capaDeLivro = 24,95\n",
        "descLivraria = 40/100\n",
        "trasnportePrimeiroExemplar = 3,00\n",
        "transpSeguintesExemplares = 0,75\n",
        "copias = 60\n",
        "result =  copias * transpSeguintesExemplares\n",
        "print(result)\n",
        "#variáveis são muito importante pq vc consegue deixar seu código dinâmico e pode trabalhar com acesso e recuperação de dados."
      ]
    },
    {
      "cell_type": "code",
      "execution_count": null,
      "metadata": {
        "colab": {
          "base_uri": "https://localhost:8080/"
        },
        "id": "9z-0JkHNxIQ_",
        "outputId": "201378a4-3b40-425f-d102-a04b6304a6f3"
      },
      "outputs": [
        {
          "name": "stdout",
          "output_type": "stream",
          "text": [
            "1100.0\n"
          ]
        }
      ],
      "source": [
        "salario = 1000\n",
        "aumento = 10\n",
        "print (salario + (salario * aumento /100) )"
      ]
    },
    {
      "cell_type": "markdown",
      "metadata": {
        "id": "LA5-OkQtys6V"
      },
      "source": [
        "Tipos de Dados\n",
        "Números: Integer / Float\n",
        "Texto: String\n",
        "Lógico: Boolean\n",
        "Insira as informações de forma que faça sentido. Nomes significativos."
      ]
    },
    {
      "cell_type": "code",
      "execution_count": null,
      "metadata": {
        "colab": {
          "base_uri": "https://localhost:8080/"
        },
        "id": "6ODBCRsOyze-",
        "outputId": "01678898-ca40-4a15-ecd9-888fd1f1f786"
      },
      "outputs": [
        {
          "name": "stdout",
          "output_type": "stream",
          "text": [
            "101\n"
          ]
        }
      ],
      "source": [
        "qtdEstoque = 100\n",
        "qtdEstoque = qtdEstoque + 1\n",
        "print(qtdEstoque)"
      ]
    },
    {
      "cell_type": "code",
      "execution_count": null,
      "metadata": {
        "colab": {
          "base_uri": "https://localhost:8080/"
        },
        "id": "zjqMxym9z3kR",
        "outputId": "c9f256d9-ec81-4f68-a0c5-0470479e0a7e"
      },
      "outputs": [
        {
          "data": {
            "text/plain": [
              "10.5"
            ]
          },
          "execution_count": 18,
          "metadata": {},
          "output_type": "execute_result"
        }
      ],
      "source": [
        "valor = 10.5\n",
        "valor"
      ]
    },
    {
      "cell_type": "markdown",
      "metadata": {
        "id": "asvMiJbH0goT"
      },
      "source": [
        "Tipo de Dados Booleanos\n",
        "Verdadeiro: True\n",
        "Falso: False"
      ]
    },
    {
      "cell_type": "code",
      "execution_count": null,
      "metadata": {
        "colab": {
          "base_uri": "https://localhost:8080/"
        },
        "id": "nFtxDhwd0ol2",
        "outputId": "c07ccaa0-0f02-4061-e72c-b7b878940de6"
      },
      "outputs": [
        {
          "data": {
            "text/plain": [
              "bool"
            ]
          },
          "execution_count": 22,
          "metadata": {},
          "output_type": "execute_result"
        }
      ],
      "source": [
        "resultado = False\n",
        "type(resultado)"
      ]
    },
    {
      "cell_type": "markdown",
      "metadata": {
        "id": "i-58dNhF0495"
      },
      "source": [
        "Operadores Relacionais\n",
        "igualdade ==\n",
        "maior que >\n",
        "menor que <\n",
        "diferente!=\n",
        "maior ou igual >=\n",
        "menor ou igual <=\n"
      ]
    },
    {
      "cell_type": "code",
      "execution_count": null,
      "metadata": {
        "colab": {
          "base_uri": "https://localhost:8080/"
        },
        "id": "jmOVPBT91Hk3",
        "outputId": "52507f4a-5e2e-41bb-83d2-574e241ed51d"
      },
      "outputs": [
        {
          "data": {
            "text/plain": [
              "False"
            ]
          },
          "execution_count": 30,
          "metadata": {},
          "output_type": "execute_result"
        }
      ],
      "source": [
        "a = 1\n",
        "b = 5\n",
        "c = 2\n",
        "d = 1\n",
        "d != a\n"
      ]
    },
    {
      "cell_type": "code",
      "execution_count": null,
      "metadata": {
        "colab": {
          "base_uri": "https://localhost:8080/"
        },
        "id": "HVZbRUrh3dNq",
        "outputId": "34a8e430-7c19-480d-b767-e92ea04eecae"
      },
      "outputs": [
        {
          "name": "stdout",
          "output_type": "stream",
          "text": [
            "True\n"
          ]
        }
      ],
      "source": [
        "nota = 7\n",
        "media = 7\n",
        "aprovado = nota >= media\n",
        "print(aprovado)"
      ]
    },
    {
      "cell_type": "markdown",
      "metadata": {
        "id": "2YD_OiXX4HiU"
      },
      "source": [
        "Operadores Lógicos\n",
        "Se o usuário não preencher um valor eu quero que negar algo.\n",
        "Fazer pesquisa de True table ou tabela verdade  \n",
        "\n",
        "NOT And e OR"
      ]
    },
    {
      "cell_type": "code",
      "execution_count": null,
      "metadata": {
        "id": "Y9I1Geac4gAL"
      },
      "outputs": [],
      "source": [
        "not False"
      ]
    },
    {
      "cell_type": "code",
      "execution_count": null,
      "metadata": {
        "colab": {
          "base_uri": "https://localhost:8080/"
        },
        "id": "o36d8A956UyR",
        "outputId": "d43cd92b-e8ae-4ba8-a2d6-948a8e65a3da"
      },
      "outputs": [
        {
          "name": "stdout",
          "output_type": "stream",
          "text": [
            "Meu nome é: Alessandra Sandeski Marmiroli tenho 36 anos moro em Presidente Prudente no estado de SP.\n"
          ]
        }
      ],
      "source": [
        "nome = 'Alessandra Sandeski Marmiroli'\n",
        "idade = '36'\n",
        "cidade = 'Presidente Prudente'\n",
        "estado = 'SP'\n",
        "print('Meu nome é: '+ nome + ' tenho ' + idade + ' anos moro em ' + cidade + ' no estado de ' + estado + '.')"
      ]
    },
    {
      "cell_type": "code",
      "execution_count": null,
      "metadata": {
        "id": "NCxIwd1lA1I_"
      },
      "outputs": [],
      "source": []
    },
    {
      "cell_type": "markdown",
      "metadata": {
        "id": "wikaM4Zp77yQ"
      },
      "source": [
        "Len é uma função que retorna quantos caractesres ou o tamanho de uma string."
      ]
    },
    {
      "cell_type": "code",
      "execution_count": null,
      "metadata": {
        "colab": {
          "base_uri": "https://localhost:8080/"
        },
        "id": "QAgJpdmQ8ALK",
        "outputId": "08ce87f1-27fb-4708-c1b1-fcffc8480a54"
      },
      "outputs": [
        {
          "data": {
            "text/plain": [
              "10"
            ]
          },
          "execution_count": 55,
          "metadata": {},
          "output_type": "execute_result"
        }
      ],
      "source": [
        "nome = 'Alessandra'\n",
        "len(nome)\n"
      ]
    },
    {
      "cell_type": "markdown",
      "metadata": {
        "id": "edaiOHPT9IRE"
      },
      "source": [
        "Concatenação aux = 'ABC'\n",
        "              aux + 'D'"
      ]
    },
    {
      "cell_type": "code",
      "execution_count": null,
      "metadata": {
        "colab": {
          "base_uri": "https://localhost:8080/",
          "height": 36
        },
        "id": "BtnHIezi9XsJ",
        "outputId": "27094260-503f-4f77-eb8b-e7d5ec047329"
      },
      "outputs": [
        {
          "data": {
            "application/vnd.google.colaboratory.intrinsic+json": {
              "type": "string"
            },
            "text/plain": [
              "'A'"
            ]
          },
          "execution_count": 58,
          "metadata": {},
          "output_type": "execute_result"
        }
      ],
      "source": [
        "#Acessando o índice\n",
        "nome = 'Ale'\n",
        "nome[0]\n"
      ]
    },
    {
      "cell_type": "code",
      "execution_count": null,
      "metadata": {
        "colab": {
          "base_uri": "https://localhost:8080/"
        },
        "id": "8L98P09R-RYG",
        "outputId": "1ab25da5-216f-46ed-ea7e-6504c44b1e2a"
      },
      "outputs": [
        {
          "name": "stdout",
          "output_type": "stream",
          "text": [
            "ABCDE\n"
          ]
        }
      ],
      "source": [
        "elemento = 'ABC'\n",
        "elemento2 = 'DE'\n",
        "saída = elemento + elemento2\n",
        "print(saída)"
      ]
    },
    {
      "cell_type": "code",
      "execution_count": null,
      "metadata": {
        "colab": {
          "base_uri": "https://localhost:8080/"
        },
        "id": "oOR5ndaa-z1l",
        "outputId": "aa753c1c-accb-4ba5-bff2-392c5f202957"
      },
      "outputs": [
        {
          "name": "stdout",
          "output_type": "stream",
          "text": [
            "ABCDDDD\n"
          ]
        }
      ],
      "source": [
        "regex = 'ABC'\n",
        "print(regex + 'D' * 4)"
      ]
    },
    {
      "cell_type": "code",
      "execution_count": null,
      "metadata": {
        "colab": {
          "base_uri": "https://localhost:8080/"
        },
        "id": "cSRorFE_A4QU",
        "outputId": "25b883dd-f902-4a3e-8ab5-05c2bf2cc399"
      },
      "outputs": [
        {
          "name": "stdout",
          "output_type": "stream",
          "text": [
            "Alessandra Sandeski Marmiroli, tem 36 anos de vida\n"
          ]
        }
      ],
      "source": [
        "print(f'{nome}, tem {idade} anos de vida')"
      ]
    },
    {
      "cell_type": "code",
      "execution_count": null,
      "metadata": {
        "colab": {
          "base_uri": "https://localhost:8080/"
        },
        "id": "EiTjcUVGBTrm",
        "outputId": "400d8aeb-6d63-48f7-c772-0d7ed5d9c209"
      },
      "outputs": [
        {
          "name": "stdout",
          "output_type": "stream",
          "text": [
            "CD\n"
          ]
        }
      ],
      "source": [
        "text = 'ABCDEFG'\n",
        "print(text[2:4])"
      ]
    },
    {
      "cell_type": "code",
      "execution_count": null,
      "metadata": {
        "colab": {
          "base_uri": "https://localhost:8080/"
        },
        "id": "YapzAlQ_8Xf3",
        "outputId": "e5fa9acc-47e4-4b60-f384-5fd8a5b12da6"
      },
      "outputs": [
        {
          "name": "stdout",
          "output_type": "stream",
          "text": [
            "False\n"
          ]
        }
      ],
      "source": [
        "nume1 = 2\n",
        "nume2 = 5\n",
        "soma = nume1 + nume2\n",
        "print(nume1>nume2)"
      ]
    },
    {
      "cell_type": "code",
      "execution_count": null,
      "metadata": {
        "colab": {
          "base_uri": "https://localhost:8080/"
        },
        "id": "1Z1hV2s4-fGv",
        "outputId": "0b9b82d8-ddff-4dc3-8949-da7d11b4942a"
      },
      "outputs": [
        {
          "name": "stdout",
          "output_type": "stream",
          "text": [
            "600\n"
          ]
        }
      ],
      "source": [
        "#Programa exemplo de sequências e tempo\n",
        "total = 0 #iniciando minha variável com 0\n",
        "item = 100\n",
        "total = total + item\n",
        "item = 200\n",
        "total = total + item\n",
        "item = 300\n",
        "total = total + item\n",
        "item = 0\n",
        "print(total)"
      ]
    },
    {
      "cell_type": "code",
      "execution_count": null,
      "metadata": {
        "colab": {
          "base_uri": "https://localhost:8080/"
        },
        "id": "W0UmSoP_J-RP",
        "outputId": "57362f59-7fc0-46e8-eae5-1bf322cc387f"
      },
      "outputs": [
        {
          "name": "stdout",
          "output_type": "stream",
          "text": [
            "Qua sua cor Favorita?Azul\n",
            "Azul\n"
          ]
        }
      ],
      "source": [
        "frase = input('Qual sua cor Favorita?')\n",
        "print(frase)"
      ]
    },
    {
      "cell_type": "code",
      "execution_count": null,
      "metadata": {
        "colab": {
          "base_uri": "https://localhost:8080/"
        },
        "id": "fJKm3SXIKSLR",
        "outputId": "31a144d4-4a18-445c-811b-7fb31ad026fe"
      },
      "outputs": [
        {
          "name": "stdout",
          "output_type": "stream",
          "text": [
            "Digite seu e-mailale@ale\n",
            "Digite sua senha123\n",
            "ale@ale123\n"
          ]
        }
      ],
      "source": [
        "frase1 = input('Digite seu e-mail')\n",
        "frase2 = input('Digite sua senha')\n",
        "print(frase1 + frase2)"
      ]
    },
    {
      "cell_type": "code",
      "execution_count": null,
      "metadata": {
        "colab": {
          "base_uri": "https://localhost:8080/"
        },
        "id": "x5OmUPgKK9OF",
        "outputId": "328290eb-2c6c-4c2b-ba22-b99932b8bfa9"
      },
      "outputs": [
        {
          "name": "stdout",
          "output_type": "stream",
          "text": [
            "Digite seu nomeAlessandra\n",
            "Você digitou Alessandra.\n",
            "Olá, Alessandra! Seja muito bem vinda.\n"
          ]
        }
      ],
      "source": [
        "nomeNovo = input('Digite seu nome')\n",
        "print(f'Você digitou {nomeNovo}.')\n",
        "print(f'Olá, {nomeNovo}! Seja muito bem vinda.')"
      ]
    },
    {
      "cell_type": "markdown",
      "metadata": {
        "id": "c8PN3TkQMdHw"
      },
      "source": [
        "Casting conversão de entrada de Dados.\n",
        "int para números inteiros\n",
        "float para decimais\n",
        "str para string"
      ]
    },
    {
      "cell_type": "code",
      "execution_count": null,
      "metadata": {
        "colab": {
          "base_uri": "https://localhost:8080/"
        },
        "id": "JikdSRKbMq38",
        "outputId": "708ccca9-ea85-4cc1-ae3f-fd7b3710412d"
      },
      "outputs": [
        {
          "name": "stdout",
          "output_type": "stream",
          "text": [
            "Anos de serviço2\n",
            "Valor por ano: 120.06\n",
            "Bônus de R$ 240.12\n",
            "<class 'int'>\n",
            "<class 'float'>\n",
            "<class 'float'>\n"
          ]
        }
      ],
      "source": [
        "tempoServico = int(input('Anos de serviço'))\n",
        "valorAno = float(input('Valor por ano: '))\n",
        "bonus = tempoServico * valorAno\n",
        "print(f'Bônus de R$ {bonus:5.2f}')\n",
        "print(type(tempoServico))\n",
        "print(type(valorAno))\n",
        "print(type(bonus))#Mostrando Valores de Cada variável"
      ]
    },
    {
      "cell_type": "markdown",
      "metadata": {
        "id": "nTBGVaFOO29_"
      },
      "source": [
        "Condições"
      ]
    },
    {
      "cell_type": "markdown",
      "metadata": {
        "id": "1DeVbrhFRuwc"
      },
      "source": [
        "PROGRAMA Temperatura; INÍCIO\n",
        "VARIÁVEL splTemperatura: SIMPLES;\n",
        "LIMPAR_TELA(); ESCREVER(\"Digite um valor para a temperatura:\"); LER(splTemperatura);\n",
        "SE (splTemperatura > 30) ENTÃO ESCREVER(\"Essa temperatura é alta !\");\n",
        "ESCREVER(\"Fim do programa...\"); LER();\n",
        "FIM.\n"
      ]
    },
    {
      "cell_type": "markdown",
      "metadata": {
        "id": "yPnN0S92cxkc"
      },
      "source": [
        "IF(SE)\n",
        "Se a condição (teste lógico) for verdadeira faça algo\n",
        "Na condição utilizamos os operadores relacionais (igualdade, maior que, menor que, diferente, maior ou igual, menor ou igual) /lógicos(e, ou não)"
      ]
    },
    {
      "cell_type": "code",
      "execution_count": null,
      "metadata": {
        "colab": {
          "base_uri": "https://localhost:8080/"
        },
        "id": "EEXeLe5kdMwp",
        "outputId": "d0abee46-c147-470c-ca0c-b87dc965d5c6"
      },
      "outputs": [
        {
          "name": "stdout",
          "output_type": "stream",
          "text": [
            "O primeiro número é o maior.\n",
            "Obrigada.\n"
          ]
        }
      ],
      "source": [
        "numero1 = 2\n",
        "numero2 = 10\n",
        "if numero1 > numero2:\n",
        "     print('O primeiro número é o maior.')\n",
        "print('Obrigada.')"
      ]
    },
    {
      "cell_type": "code",
      "execution_count": null,
      "metadata": {
        "colab": {
          "base_uri": "https://localhost:8080/"
        },
        "id": "9VXnFrJIejyL",
        "outputId": "0b4ae592-e6de-4b5e-b6c4-92b5a016f929"
      },
      "outputs": [
        {
          "name": "stdout",
          "output_type": "stream",
          "text": [
            "O segundo número é o maior.\n",
            "Obrigada.\n"
          ]
        }
      ],
      "source": [
        "num3 = 200\n",
        "num4 = 600\n",
        "\n",
        "if num3 > num4:\n",
        "    print('O primeiro número é o maior.')\n",
        "\n",
        "if num4 > num3:\n",
        "    print('O segundo número é o maior.')\n",
        "print('Obrigada.')"
      ]
    },
    {
      "cell_type": "code",
      "execution_count": null,
      "metadata": {
        "colab": {
          "base_uri": "https://localhost:8080/"
        },
        "id": "7diJtCpUfyg2",
        "outputId": "0f120eb3-9818-41a3-8490-210eefc419fa"
      },
      "outputs": [
        {
          "name": "stdout",
          "output_type": "stream",
          "text": [
            "O primeiro produto esta mais caro.\n",
            "Identificamos que,\n"
          ]
        }
      ],
      "source": [
        "prod1 = 1200\n",
        "prod2 = 200\n",
        "\n",
        "if prod1 > prod2:\n",
        "    print('O primeiro produto esta mais caro.')\n",
        "if prod2 > prod1:\n",
        "    print('O segundo produto esta mais caro.')\n",
        "print('Identificamos que,')"
      ]
    },
    {
      "cell_type": "code",
      "execution_count": null,
      "metadata": {
        "colab": {
          "base_uri": "https://localhost:8080/"
        },
        "id": "-Nk_ywqmg767",
        "outputId": "52e0f88b-9093-438f-ce53-1b55741c868e"
      },
      "outputs": [
        {
          "name": "stdout",
          "output_type": "stream",
          "text": [
            "Digite a idade do seu carro10\n",
            "O seu carro é velho.\n"
          ]
        }
      ],
      "source": [
        "idadeDoCarro = int(input('Digite a idade do seu carro'))\n",
        "if idadeDoCarro <= 3:\n",
        "    print('O seu carro é novo.')\n",
        "else:\n",
        "    print('O seu carro é velho.')\n",
        "#Fazendo uma verificação da idade do Carro se for menor ou = a 3 anos me diga \"seu carro é novo\" senão me diga \"seu carro é velho\""
      ]
    },
    {
      "cell_type": "code",
      "execution_count": null,
      "metadata": {
        "colab": {
          "base_uri": "https://localhost:8080/"
        },
        "id": "fUBkn-lXiw7L",
        "outputId": "8a982fe6-195f-4188-fb3d-f58edd94cee6"
      },
      "outputs": [
        {
          "name": "stdout",
          "output_type": "stream",
          "text": [
            "a = 3\n",
            "b = 2\n",
            "adição/subtração/multiplicação ou divisão: x\n",
            "Resultado é:  ERRO!\n"
          ]
        }
      ],
      "source": [
        "a = int(input('a = '))\n",
        "b = int(input('b = '))\n",
        "op = input('adição/subtração/multiplicação ou divisão: ')\n",
        "\n",
        "if op == 'adição':\n",
        "    c = a + b\n",
        "elif op == 'subtração':\n",
        "    c = a - b\n",
        "elif op == 'multiplicação':\n",
        "    c = a * b\n",
        "elif op == 'divisão':\n",
        "    c = a / b\n",
        "else:\n",
        "    c = 'ERRO!'\n",
        "print('Resultado é: ', c)"
      ]
    },
    {
      "cell_type": "code",
      "execution_count": null,
      "metadata": {
        "colab": {
          "base_uri": "https://localhost:8080/"
        },
        "id": "FeGwFGFLLYrG",
        "outputId": "420f0cb8-9491-4065-9846-ec78e2b12a89"
      },
      "outputs": [
        {
          "name": "stdout",
          "output_type": "stream",
          "text": [
            "1\n",
            "2\n",
            "3\n",
            "4\n",
            "5\n",
            "6\n",
            "7\n",
            "8\n",
            "9\n",
            "10\n"
          ]
        }
      ],
      "source": [
        "#Enquanto\n",
        "x = 1\n",
        "while x <= 10:\n",
        "    print(x)\n",
        "    x = x + 1\n"
      ]
    },
    {
      "cell_type": "code",
      "execution_count": null,
      "metadata": {
        "colab": {
          "base_uri": "https://localhost:8080/"
        },
        "id": "RNgpycq7MXyk",
        "outputId": "ab0851bb-76a2-4f4b-9983-e0d080e35100"
      },
      "outputs": [
        {
          "name": "stdout",
          "output_type": "stream",
          "text": [
            "Qual o UF da capital mais populosa do Brasil?SP\n"
          ]
        }
      ],
      "source": [
        "#Exemplo capital\n",
        "capital = 'SP'#Determino a capital\n",
        "resposta = input('Qual o UF da capital mais populosa do Brasil?')#Faço a pergunta ao user\n",
        "while resposta != 'SP': #Determino uma condição para a resposta\n",
        "    print('Sua resposta esta incorreta') #caso digite algo diferente do que eu quero indico na tela com um print\n",
        "    resposta = input('Qual o UF da capital mais populosa do Brasil?') #Determino que continue até que acerte a minha condição"
      ]
    },
    {
      "cell_type": "code",
      "execution_count": null,
      "metadata": {
        "colab": {
          "base_uri": "https://localhost:8080/"
        },
        "id": "bzVGqrCPOvbC",
        "outputId": "4e07486d-75d5-431e-ba9f-2a143fe0afda"
      },
      "outputs": [
        {
          "name": "stdout",
          "output_type": "stream",
          "text": [
            "Digite o último número a imprimir6\n",
            "1\n",
            "2\n",
            "3\n",
            "4\n",
            "5\n",
            "6\n"
          ]
        }
      ],
      "source": [
        "#Usando o while com um contador\n",
        "fim = int (input('Digite o último número a imprimir'))\n",
        "element = 1\n",
        "while element <= fim:\n",
        "    print(element)\n",
        "    element = element + 1"
      ]
    },
    {
      "cell_type": "code",
      "execution_count": null,
      "metadata": {
        "colab": {
          "base_uri": "https://localhost:8080/"
        },
        "id": "qzq2fRO1TGP3",
        "outputId": "24c04ec5-efd1-42f8-ec87-dc80866dcc42"
      },
      "outputs": [
        {
          "name": "stdout",
          "output_type": "stream",
          "text": [
            "Digite o último número a imprimir:10\n",
            "2\n",
            "4\n",
            "6\n",
            "8\n",
            "10\n"
          ]
        }
      ],
      "source": [
        "final = int(input('Digite o último número a imprimir:'))\n",
        "aux = 1\n",
        "while aux <= final:\n",
        "     if aux % 2 == 0:\n",
        "         print(aux)\n",
        "     aux = aux + 1"
      ]
    },
    {
      "cell_type": "code",
      "execution_count": null,
      "metadata": {
        "colab": {
          "base_uri": "https://localhost:8080/"
        },
        "id": "VTBpy0fZT2IL",
        "outputId": "34c97a44-7125-4d34-dc07-5b95aea84073"
      },
      "outputs": [
        {
          "name": "stdout",
          "output_type": "stream",
          "text": [
            "Digite o último número a imprimir:10\n",
            "0\n",
            "2\n",
            "4\n",
            "6\n",
            "8\n",
            "10\n"
          ]
        }
      ],
      "source": [
        "finalmente = int(input('Digite o último número a imprimir:'))\n",
        "auxi = 0\n",
        "while auxi <= finalmente:\n",
        "    print(auxi)\n",
        "    auxi = auxi + 2"
      ]
    },
    {
      "cell_type": "code",
      "execution_count": null,
      "metadata": {
        "colab": {
          "base_uri": "https://localhost:8080/"
        },
        "id": "CPGgs3hfUouU",
        "outputId": "eef621e8-6fbf-4800-84ba-a77f7f1b63dd"
      },
      "outputs": [
        {
          "output_type": "stream",
          "name": "stdout",
          "text": [
            "Digite o 1º número:2\n",
            "Digite o 2º número:2\n",
            "Digite o 3º número:2\n",
            "Digite o 4º número:2\n",
            "Digite o 5º número:2\n",
            "Digite o 6º número:2\n",
            "Digite o 7º número:2\n",
            "Digite o 8º número:2\n",
            "Digite o 9º número:2\n",
            "Digite o 10º número:2\n",
            "Soma: 20\n"
          ]
        }
      ],
      "source": [
        "2#ACUMULADORES PERCORRE-SE CADA ITEM E SOMANDO ESSES VALORES E AO FINAL EXIBIR ISSO TUDO NA TELA\n",
        "\n",
        "controle = 1\n",
        "somando = 0\n",
        "while controle <= 10:\n",
        "    valor = int(input(f'Digite o {controle}º número:'))\n",
        "    somando = somando + valor #ACUMULADOR\n",
        "    controle = controle + 1 #CONTADOR\n",
        "print(f'Soma: {somando}')"
      ]
    },
    {
      "cell_type": "code",
      "execution_count": null,
      "metadata": {
        "colab": {
          "base_uri": "https://localhost:8080/"
        },
        "id": "YxQy1MNTZuPm",
        "outputId": "f0c24657-9bff-4f6f-c9f9-f871705f04af"
      },
      "outputs": [
        {
          "name": "stdout",
          "output_type": "stream",
          "text": [
            "Digite um número para somar ou 0 para sair:6\n",
            "Digite um número para somar ou 0 para sair:4\n",
            "Digite um número para somar ou 0 para sair:0\n",
            "10\n"
          ]
        }
      ],
      "source": [
        "#SAINDO DO LAÇO DA CONDIÇÃO PRECISO SAIR DO LAÇO DENTRO DO BLOCO BREAK\n",
        "\n",
        "aux = 0\n",
        "while True:\n",
        "    number = int(input('Digite um número para somar ou 0 para sair:'))\n",
        "    if number == 0:\n",
        "        break\n",
        "    aux += number # aux = aux + number\n",
        "print(aux)"
      ]
    },
    {
      "cell_type": "code",
      "execution_count": null,
      "metadata": {
        "colab": {
          "background_save": true
        },
        "id": "WRHpnHOCcgcN",
        "outputId": "1d20a9c7-1aea-403e-8382-22a17610c796"
      },
      "outputs": [
        {
          "name": "stdout",
          "output_type": "stream",
          "text": [
            "1 X 1 = 1\n",
            "1 X 2 = 2\n",
            "1 X 3 = 3\n",
            "1 X 4 = 4\n",
            "1 X 5 = 5\n",
            "1 X 6 = 6\n",
            "1 X 7 = 7\n",
            "1 X 8 = 8\n",
            "1 X 9 = 9\n",
            "1 X 10 = 10\n",
            "2 X 1 = 2\n",
            "2 X 2 = 4\n",
            "2 X 3 = 6\n",
            "2 X 4 = 8\n",
            "2 X 5 = 10\n",
            "2 X 6 = 12\n",
            "2 X 7 = 14\n",
            "2 X 8 = 16\n",
            "2 X 9 = 18\n",
            "2 X 10 = 20\n",
            "3 X 1 = 3\n",
            "3 X 2 = 6\n",
            "3 X 3 = 9\n",
            "3 X 4 = 12\n",
            "3 X 5 = 15\n",
            "3 X 6 = 18\n",
            "3 X 7 = 21\n",
            "3 X 8 = 24\n",
            "3 X 9 = 27\n",
            "3 X 10 = 30\n",
            "4 X 1 = 4\n",
            "4 X 2 = 8\n",
            "4 X 3 = 12\n",
            "4 X 4 = 16\n",
            "4 X 5 = 20\n",
            "4 X 6 = 24\n",
            "4 X 7 = 28\n",
            "4 X 8 = 32\n",
            "4 X 9 = 36\n",
            "4 X 10 = 40\n",
            "5 X 1 = 5\n",
            "5 X 2 = 10\n",
            "5 X 3 = 15\n",
            "5 X 4 = 20\n",
            "5 X 5 = 25\n",
            "5 X 6 = 30\n",
            "5 X 7 = 35\n",
            "5 X 8 = 40\n",
            "5 X 9 = 45\n",
            "5 X 10 = 50\n",
            "6 X 1 = 6\n",
            "6 X 2 = 12\n",
            "6 X 3 = 18\n",
            "6 X 4 = 24\n",
            "6 X 5 = 30\n",
            "6 X 6 = 36\n",
            "6 X 7 = 42\n",
            "6 X 8 = 48\n",
            "6 X 9 = 54\n",
            "6 X 10 = 60\n",
            "7 X 1 = 7\n",
            "7 X 2 = 14\n",
            "7 X 3 = 21\n",
            "7 X 4 = 28\n",
            "7 X 5 = 35\n",
            "7 X 6 = 42\n",
            "7 X 7 = 49\n",
            "7 X 8 = 56\n",
            "7 X 9 = 63\n",
            "7 X 10 = 70\n",
            "8 X 1 = 8\n",
            "8 X 2 = 16\n",
            "8 X 3 = 24\n",
            "8 X 4 = 32\n",
            "8 X 5 = 40\n",
            "8 X 6 = 48\n",
            "8 X 7 = 56\n",
            "8 X 8 = 64\n",
            "8 X 9 = 72\n",
            "8 X 10 = 80\n",
            "9 X 1 = 9\n",
            "9 X 2 = 18\n",
            "9 X 3 = 27\n",
            "9 X 4 = 36\n",
            "9 X 5 = 45\n",
            "9 X 6 = 54\n",
            "9 X 7 = 63\n",
            "9 X 8 = 72\n",
            "9 X 9 = 81\n",
            "9 X 10 = 90\n",
            "10 X 1 = 10\n",
            "10 X 2 = 20\n",
            "10 X 3 = 30\n",
            "10 X 4 = 40\n",
            "10 X 5 = 50\n",
            "10 X 6 = 60\n",
            "10 X 7 = 70\n",
            "10 X 8 = 80\n",
            "10 X 9 = 90\n",
            "10 X 10 = 100\n"
          ]
        }
      ],
      "source": [
        "tabuada = 1 #minha tabuada inicia em 1\n",
        "while tabuada <= 10: #enquanto a minha tabuada for menor ou igual a 10 faça\n",
        "    numero = 1 #minha variável numero recebe 1\n",
        "    while numero <=10: #enquanto minha variável numero for menor ou igual a 10 faça\n",
        "        print(f'{tabuada} X {numero} = {tabuada * numero}')\n",
        "        numero += 1#acumulador\n",
        "    tabuada += 1  #acumulador\n",
        "\n"
      ]
    }
  ],
  "metadata": {
    "colab": {
      "provenance": [],
      "authorship_tag": "ABX9TyMPkNwde1OC2yI/SM2d7u4Y",
      "include_colab_link": true
    },
    "kernelspec": {
      "display_name": "Python 3",
      "name": "python3"
    },
    "language_info": {
      "name": "python"
    }
  },
  "nbformat": 4,
  "nbformat_minor": 0
}